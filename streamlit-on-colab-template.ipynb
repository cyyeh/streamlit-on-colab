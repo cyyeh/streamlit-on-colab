{
  "nbformat": 4,
  "nbformat_minor": 0,
  "metadata": {
    "colab": {
      "name": "Streamlit-on-Colab-template.ipynb",
      "provenance": [],
      "private_outputs": true,
      "include_colab_link": true
    },
    "kernelspec": {
      "name": "python3",
      "display_name": "Python 3"
    }
  },
  "cells": [
    {
      "cell_type": "markdown",
      "metadata": {
        "id": "view-in-github",
        "colab_type": "text"
      },
      "source": [
        "<a href=\"https://colab.research.google.com/github/cyyeh/streamlit-on-colab/blob/main/streamlit-on-colab-template.ipynb\" target=\"_parent\"><img src=\"https://colab.research.google.com/assets/colab-badge.svg\" alt=\"Open In Colab\"/></a>"
      ]
    },
    {
      "cell_type": "markdown",
      "source": [
        "# Streamlit on Colab template"
      ],
      "metadata": {
        "id": "DQdyoNmb0X2w"
      }
    },
    {
      "cell_type": "markdown",
      "source": [
        "## Install required dependencies"
      ],
      "metadata": {
        "id": "3AgL_77E1ciC"
      }
    },
    {
      "cell_type": "code",
      "metadata": {
        "id": "ziriPq9PmS7m"
      },
      "source": [
        "#@title Install `streamlit` only at the moment\n",
        "\n",
        "!pip install --upgrade streamlit"
      ],
      "execution_count": null,
      "outputs": []
    },
    {
      "cell_type": "markdown",
      "source": [
        "## Prepare python files for your streamlit app\n",
        "\n",
        "You can either grab one from the Internet, or create you yourself and put it in\n",
        "the root directory."
      ],
      "metadata": {
        "id": "oOLC6MTO1Z-d"
      }
    },
    {
      "cell_type": "code",
      "metadata": {
        "id": "XlId-62RmVAe"
      },
      "source": [
        "#@title 1. Grab one from the Internet\n",
        "\n",
        "!wget https://raw.githubusercontent.com/streamlit/demo-self-driving/master/streamlit_app.py"
      ],
      "execution_count": null,
      "outputs": []
    },
    {
      "cell_type": "code",
      "source": [
        "#@title 2. Create one yourself\n",
        "\n",
        "%%writefile app.py\n",
        "\n",
        "import streamlit as st\n",
        "\n",
        "st.write(\"Hello, this is my first Streamlit app!\")"
      ],
      "metadata": {
        "id": "Zu279R5b2Cig"
      },
      "execution_count": null,
      "outputs": []
    },
    {
      "cell_type": "markdown",
      "source": [
        "## Run a streamlit app and use localtunnel to get public url"
      ],
      "metadata": {
        "id": "vBA-Gwcv2pDy"
      }
    },
    {
      "cell_type": "code",
      "metadata": {
        "id": "2XkCb-JHphYQ",
        "cellView": "form"
      },
      "source": [
        "#@title Run self-driving demo app\n",
        "\n",
        "!streamlit run streamlit_app.py & npx localtunnel --port 8501"
      ],
      "execution_count": null,
      "outputs": []
    },
    {
      "cell_type": "code",
      "source": [
        "#@title Run the app your created\n",
        "\n",
        "!streamlit run app.py & npx localtunnel --port 8501"
      ],
      "metadata": {
        "id": "dzUdYORHy2g8",
        "cellView": "form"
      },
      "execution_count": null,
      "outputs": []
    },
    {
      "cell_type": "code",
      "source": [
        ""
      ],
      "metadata": {
        "id": "GeV4G9my3HPT"
      },
      "execution_count": null,
      "outputs": []
    }
  ]
}